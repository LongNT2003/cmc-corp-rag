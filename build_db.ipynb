{
 "cells": [
  {
   "cell_type": "code",
   "execution_count": 1,
   "metadata": {},
   "outputs": [],
   "source": [
    "from qdrant_client import QdrantClient\n",
    "from qdrant_client.models import VectorParams, Distance\n",
    "from typing import List\n",
    "from langchain.text_splitter import RecursiveCharacterTextSplitter\n",
    "from langchain_qdrant import QdrantVectorStore\n",
    "from langchain_huggingface import HuggingFaceEmbeddings\n",
    "from langchain_community.document_loaders import DirectoryLoader, CSVLoader\n",
    "from langchain.retrievers.parent_document_retriever import ParentDocumentRetriever\n",
    "from langchain_core.stores import InMemoryStore"
   ]
  },
  {
   "cell_type": "code",
   "execution_count": 2,
   "metadata": {},
   "outputs": [],
   "source": [
    "\n",
    "folder_path='data'\n",
    "db_path='db_qdrant'\n",
    "graph_db='neo4j_db'"
   ]
  },
  {
   "cell_type": "code",
   "execution_count": 3,
   "metadata": {},
   "outputs": [],
   "source": [
    "def load_text(file_path):\n",
    "    return CSVLoader(file_path=file_path,encoding='utf-8')\n",
    "\n",
    "\n",
    "class AdvanceTextSplitter(RecursiveCharacterTextSplitter):\n",
    "    def __init__(self, chunk_size=350, chunk_overlap=50, *args, **kwargs):\n",
    "        super().__init__(chunk_size=chunk_size, chunk_overlap=chunk_overlap, *args, **kwargs)\n",
    "\n",
    "\n",
    "    def remove_redundant_chunks(self, chunks: List[str]) -> List[str]:\n",
    "        result=[]\n",
    "        seen_chunks=set()\n",
    "        idx=0\n",
    "        for chunk in chunks:\n",
    "            if chunk.page_content not in seen_chunks:\n",
    "                chunk.id=idx\n",
    "                result.append(chunk)\n",
    "                seen_chunks.add(chunk.page_content)\n",
    "                idx+=1\n",
    "        return result\n",
    "    def split_documents(self, documents: List[str]) -> List[str]:\n",
    "\n",
    "        chunks = super().split_documents(documents)\n",
    "\n",
    "        chunks = self.remove_redundant_chunks(chunks)\n",
    "        \n",
    "        return chunks\n",
    "\n"
   ]
  },
  {
   "cell_type": "code",
   "execution_count": 4,
   "metadata": {},
   "outputs": [
    {
     "name": "stderr",
     "output_type": "stream",
     "text": [
      "d:\\python\\Lib\\site-packages\\sentence_transformers\\cross_encoder\\CrossEncoder.py:11: TqdmWarning: IProgress not found. Please update jupyter and ipywidgets. See https://ipywidgets.readthedocs.io/en/stable/user_install.html\n",
      "  from tqdm.autonotebook import tqdm, trange\n",
      "C:\\Users\\long0\\AppData\\Local\\Temp\\ipykernel_11592\\2639962424.py:15: DeprecationWarning: `recreate_collection` method is deprecated and will be removed in the future. Use `collection_exists` to check collection existence and `create_collection` instead.\n",
      "  client.recreate_collection(\n"
     ]
    },
    {
     "name": "stdout",
     "output_type": "stream",
     "text": [
      "Database created and documents added successfully.\n"
     ]
    }
   ],
   "source": [
    "def create_vector_db(folder_path):\n",
    "    # Load documents from the directory\n",
    "    loader = DirectoryLoader(folder_path, glob=\"*.csv\", loader_cls=load_text)\n",
    "    documents = loader.load()\n",
    "    # Split documents into chunks\n",
    "    text_splitter = AdvanceTextSplitter(chunk_size=250, chunk_overlap=40)\n",
    "    chunks = text_splitter.split_documents(documents)\n",
    "    # Generate embeddings\n",
    "    model_name = \"hiieu/halong_embedding\"\n",
    "    embeddings = HuggingFaceEmbeddings(model_name=model_name)\n",
    "\n",
    "    # Create and configure Qdrant client\n",
    "    client = QdrantClient(path=db_path)\n",
    "    collection_name = \"cmc_corp_full_web\"\n",
    "    client.recreate_collection(\n",
    "        collection_name=collection_name,\n",
    "        vectors_config=VectorParams(size=768, distance=Distance.COSINE),\n",
    "    )\n",
    "\n",
    "    # Store the chunks with summaries in the vector database\n",
    "    vector_store = QdrantVectorStore(\n",
    "        client=client,\n",
    "        collection_name=collection_name,\n",
    "        embedding=embeddings,\n",
    "    )\n",
    "    vector_store.add_documents(chunks)\n",
    "    print(\"Database created and documents added successfully.\")\n",
    "    return vector_store\n",
    "\n",
    "\n",
    "# Call the function with the folder path\n",
    "db=create_vector_db(folder_path)\n"
   ]
  }
 ],
 "metadata": {
  "kernelspec": {
   "display_name": "Python 3",
   "language": "python",
   "name": "python3"
  },
  "language_info": {
   "codemirror_mode": {
    "name": "ipython",
    "version": 3
   },
   "file_extension": ".py",
   "mimetype": "text/x-python",
   "name": "python",
   "nbconvert_exporter": "python",
   "pygments_lexer": "ipython3",
   "version": "3.11.5"
  }
 },
 "nbformat": 4,
 "nbformat_minor": 2
}
